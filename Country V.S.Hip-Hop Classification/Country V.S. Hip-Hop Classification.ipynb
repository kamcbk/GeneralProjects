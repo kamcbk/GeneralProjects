{
 "cells": [
  {
   "cell_type": "markdown",
   "metadata": {},
   "source": [
    "# Country V.S. Hip-Hop Classification"
   ]
  },
  {
   "cell_type": "markdown",
   "metadata": {},
   "source": [
    "### Author: Kevin Marroquin"
   ]
  },
  {
   "cell_type": "markdown",
   "metadata": {},
   "source": [
    "This project will consist of creating a classifier to predict whether a song's genre is either country or hip-hop using a k-nearest neighbor (KNN) classifier. I will implement these methods from scratch followed by a comparison using Sklearn. The entirety of this notebook is constructed by me except where noted."
   ]
  },
  {
   "cell_type": "markdown",
   "metadata": {},
   "source": [
    "#### Imports:"
   ]
  },
  {
   "cell_type": "code",
   "execution_count": 1,
   "metadata": {
    "ExecuteTime": {
     "end_time": "2020-01-19T20:00:33.566656Z",
     "start_time": "2020-01-19T20:00:32.643425Z"
    }
   },
   "outputs": [
    {
     "data": {
      "text/html": [
       "<style> *{margin:0; padding:0;} html, body, .container{margin:0;!important padding:0;!important} .container { width:100% !important;}</style>"
      ],
      "text/plain": [
       "<IPython.core.display.HTML object>"
      ]
     },
     "metadata": {},
     "output_type": "display_data"
    }
   ],
   "source": [
    "import pandas as pd\n",
    "import numpy as np\n",
    "import matplotlib.pyplot as plt\n",
    "\n",
    "%matplotlib inline\n",
    "\n",
    "#Make screen bigger horizontally\n",
    "from IPython.core.display import display, HTML\n",
    "display(HTML(\"<style> *{margin:0; padding:0;} \\\n",
    "html, body, .container{margin:0;!important padding:0;!important} \\\n",
    ".container { width:100% !important;}</style>\"))"
   ]
  },
  {
   "cell_type": "markdown",
   "metadata": {},
   "source": [
    "## Exploring the Data"
   ]
  },
  {
   "cell_type": "markdown",
   "metadata": {},
   "source": [
    "This dataset was extracted from the [Million Song Dataset](http://labrosa.ee.columbia.edu/millionsong/) by the Division of Data Science at UC Berkeley. Specifically, they have merged datasets from [musiXmatch](http://labrosa.ee.columbia.edu/millionsong/musixmatch) and [Last.fm](http://labrosa.ee.columbia.edu/millionsong/lastfm). "
   ]
  },
  {
   "cell_type": "code",
   "execution_count": 2,
   "metadata": {
    "ExecuteTime": {
     "end_time": "2020-01-19T20:00:36.958450Z",
     "start_time": "2020-01-19T20:00:33.569735Z"
    }
   },
   "outputs": [
    {
     "name": "stdout",
     "output_type": "stream",
     "text": [
      "(1721, 4820)\n"
     ]
    },
    {
     "data": {
      "text/html": [
       "<div>\n",
       "<style scoped>\n",
       "    .dataframe tbody tr th:only-of-type {\n",
       "        vertical-align: middle;\n",
       "    }\n",
       "\n",
       "    .dataframe tbody tr th {\n",
       "        vertical-align: top;\n",
       "    }\n",
       "\n",
       "    .dataframe thead th {\n",
       "        text-align: right;\n",
       "    }\n",
       "</style>\n",
       "<table border=\"1\" class=\"dataframe\">\n",
       "  <thead>\n",
       "    <tr style=\"text-align: right;\">\n",
       "      <th></th>\n",
       "      <th>Title</th>\n",
       "      <th>Artist</th>\n",
       "      <th>Genre</th>\n",
       "      <th>i</th>\n",
       "      <th>the</th>\n",
       "      <th>you</th>\n",
       "      <th>to</th>\n",
       "      <th>and</th>\n",
       "      <th>a</th>\n",
       "      <th>me</th>\n",
       "      <th>...</th>\n",
       "      <th>seventh</th>\n",
       "      <th>capit</th>\n",
       "      <th>writer</th>\n",
       "      <th>motivo</th>\n",
       "      <th>bake</th>\n",
       "      <th>insist</th>\n",
       "      <th>santo</th>\n",
       "      <th>pe</th>\n",
       "      <th>gee</th>\n",
       "      <th>colleg</th>\n",
       "    </tr>\n",
       "  </thead>\n",
       "  <tbody>\n",
       "    <tr>\n",
       "      <th>0</th>\n",
       "      <td>Slicker Than Your Average</td>\n",
       "      <td>Craig David</td>\n",
       "      <td>Hip-hop</td>\n",
       "      <td>0.049536</td>\n",
       "      <td>0.017028</td>\n",
       "      <td>0.035604</td>\n",
       "      <td>0.020124</td>\n",
       "      <td>0.007740</td>\n",
       "      <td>0.006192</td>\n",
       "      <td>0.058824</td>\n",
       "      <td>...</td>\n",
       "      <td>0.0</td>\n",
       "      <td>0.0</td>\n",
       "      <td>0.0</td>\n",
       "      <td>0.0</td>\n",
       "      <td>0.0</td>\n",
       "      <td>0.0</td>\n",
       "      <td>0.0</td>\n",
       "      <td>0.0</td>\n",
       "      <td>0.0</td>\n",
       "      <td>0.0</td>\n",
       "    </tr>\n",
       "    <tr>\n",
       "      <th>1</th>\n",
       "      <td>Right There</td>\n",
       "      <td>MF Grimm</td>\n",
       "      <td>Hip-hop</td>\n",
       "      <td>0.037825</td>\n",
       "      <td>0.054374</td>\n",
       "      <td>0.023641</td>\n",
       "      <td>0.049645</td>\n",
       "      <td>0.009456</td>\n",
       "      <td>0.016548</td>\n",
       "      <td>0.018913</td>\n",
       "      <td>...</td>\n",
       "      <td>0.0</td>\n",
       "      <td>0.0</td>\n",
       "      <td>0.0</td>\n",
       "      <td>0.0</td>\n",
       "      <td>0.0</td>\n",
       "      <td>0.0</td>\n",
       "      <td>0.0</td>\n",
       "      <td>0.0</td>\n",
       "      <td>0.0</td>\n",
       "      <td>0.0</td>\n",
       "    </tr>\n",
       "    <tr>\n",
       "      <th>2</th>\n",
       "      <td>Talkin' All That</td>\n",
       "      <td>Cashis</td>\n",
       "      <td>Hip-hop</td>\n",
       "      <td>0.056738</td>\n",
       "      <td>0.049645</td>\n",
       "      <td>0.051418</td>\n",
       "      <td>0.010638</td>\n",
       "      <td>0.026596</td>\n",
       "      <td>0.033688</td>\n",
       "      <td>0.007092</td>\n",
       "      <td>...</td>\n",
       "      <td>0.0</td>\n",
       "      <td>0.0</td>\n",
       "      <td>0.0</td>\n",
       "      <td>0.0</td>\n",
       "      <td>0.0</td>\n",
       "      <td>0.0</td>\n",
       "      <td>0.0</td>\n",
       "      <td>0.0</td>\n",
       "      <td>0.0</td>\n",
       "      <td>0.0</td>\n",
       "    </tr>\n",
       "    <tr>\n",
       "      <th>3</th>\n",
       "      <td>It Only Hurts Me When I Cry</td>\n",
       "      <td>Raul Malo</td>\n",
       "      <td>Country</td>\n",
       "      <td>0.096491</td>\n",
       "      <td>0.074561</td>\n",
       "      <td>0.030702</td>\n",
       "      <td>0.017544</td>\n",
       "      <td>0.026316</td>\n",
       "      <td>0.017544</td>\n",
       "      <td>0.021930</td>\n",
       "      <td>...</td>\n",
       "      <td>0.0</td>\n",
       "      <td>0.0</td>\n",
       "      <td>0.0</td>\n",
       "      <td>0.0</td>\n",
       "      <td>0.0</td>\n",
       "      <td>0.0</td>\n",
       "      <td>0.0</td>\n",
       "      <td>0.0</td>\n",
       "      <td>0.0</td>\n",
       "      <td>0.0</td>\n",
       "    </tr>\n",
       "    <tr>\n",
       "      <th>4</th>\n",
       "      <td>Is It Too Late Now</td>\n",
       "      <td>Lester Flatt &amp; Earl Scruggs</td>\n",
       "      <td>Country</td>\n",
       "      <td>0.043902</td>\n",
       "      <td>0.000000</td>\n",
       "      <td>0.073171</td>\n",
       "      <td>0.019512</td>\n",
       "      <td>0.000000</td>\n",
       "      <td>0.014634</td>\n",
       "      <td>0.034146</td>\n",
       "      <td>...</td>\n",
       "      <td>0.0</td>\n",
       "      <td>0.0</td>\n",
       "      <td>0.0</td>\n",
       "      <td>0.0</td>\n",
       "      <td>0.0</td>\n",
       "      <td>0.0</td>\n",
       "      <td>0.0</td>\n",
       "      <td>0.0</td>\n",
       "      <td>0.0</td>\n",
       "      <td>0.0</td>\n",
       "    </tr>\n",
       "  </tbody>\n",
       "</table>\n",
       "<p>5 rows × 4820 columns</p>\n",
       "</div>"
      ],
      "text/plain": [
       "                         Title                       Artist    Genre  \\\n",
       "0    Slicker Than Your Average                  Craig David  Hip-hop   \n",
       "1                  Right There                     MF Grimm  Hip-hop   \n",
       "2             Talkin' All That                       Cashis  Hip-hop   \n",
       "3  It Only Hurts Me When I Cry                    Raul Malo  Country   \n",
       "4           Is It Too Late Now  Lester Flatt & Earl Scruggs  Country   \n",
       "\n",
       "          i       the       you        to       and         a        me  ...  \\\n",
       "0  0.049536  0.017028  0.035604  0.020124  0.007740  0.006192  0.058824  ...   \n",
       "1  0.037825  0.054374  0.023641  0.049645  0.009456  0.016548  0.018913  ...   \n",
       "2  0.056738  0.049645  0.051418  0.010638  0.026596  0.033688  0.007092  ...   \n",
       "3  0.096491  0.074561  0.030702  0.017544  0.026316  0.017544  0.021930  ...   \n",
       "4  0.043902  0.000000  0.073171  0.019512  0.000000  0.014634  0.034146  ...   \n",
       "\n",
       "   seventh  capit  writer  motivo  bake  insist  santo   pe  gee  colleg  \n",
       "0      0.0    0.0     0.0     0.0   0.0     0.0    0.0  0.0  0.0     0.0  \n",
       "1      0.0    0.0     0.0     0.0   0.0     0.0    0.0  0.0  0.0     0.0  \n",
       "2      0.0    0.0     0.0     0.0   0.0     0.0    0.0  0.0  0.0     0.0  \n",
       "3      0.0    0.0     0.0     0.0   0.0     0.0    0.0  0.0  0.0     0.0  \n",
       "4      0.0    0.0     0.0     0.0   0.0     0.0    0.0  0.0  0.0     0.0  \n",
       "\n",
       "[5 rows x 4820 columns]"
      ]
     },
     "execution_count": 2,
     "metadata": {},
     "output_type": "execute_result"
    }
   ],
   "source": [
    "#Loading and observing the shape of the data\n",
    "lyrics = pd.read_csv(\"lyrics.csv\")\n",
    "print(lyrics.shape)\n",
    "lyrics.head()"
   ]
  },
  {
   "cell_type": "markdown",
   "metadata": {},
   "source": [
    "The first three columns contain information about a song. The rest contain the proportion of word contained in a song's lyrics. There are about 4817 words in these \n",
    "songs, some more prominent in country songs than hip-hop, and vice-versa. \n",
    "\n",
    "As a check, I'd like to make sure that the numbers in a row all sum to 1 to see if any additional cleaning is needed."
   ]
  },
  {
   "cell_type": "code",
   "execution_count": 3,
   "metadata": {
    "ExecuteTime": {
     "end_time": "2020-01-19T20:00:42.248838Z",
     "start_time": "2020-01-19T20:00:36.961553Z"
    }
   },
   "outputs": [
    {
     "data": {
      "text/plain": [
       "545"
      ]
     },
     "execution_count": 3,
     "metadata": {},
     "output_type": "execute_result"
    }
   ],
   "source": [
    "#Finding there are many unique values in dataset \n",
    "len(set(np.sum(lyrics, axis = 1)))"
   ]
  },
  {
   "cell_type": "code",
   "execution_count": 4,
   "metadata": {
    "ExecuteTime": {
     "end_time": "2020-01-19T20:00:47.522445Z",
     "start_time": "2020-01-19T20:00:42.254210Z"
    }
   },
   "outputs": [
    {
     "data": {
      "image/png": "[encoded data removed]",
      "text/plain": [
       "<Figure size 648x432 with 1 Axes>"
      ]
     },
     "metadata": {
      "needs_background": "light"
     },
     "output_type": "display_data"
    }
   ],
   "source": [
    "#Checking whether numbers in a row sum to 1\n",
    "plt.figure(figsize=(9, 6))\n",
    "plt.hist(np.sum(lyrics, axis = 1))\n",
    "plt.title(\"Histogram of Sums of Rows\")\n",
    "plt.xticks(rotation = 90)\n",
    "plt.xlabel(\"Sum of rows\", size = 15)\n",
    "plt.ylabel(\"Count\", size = 15)\n",
    "plt.ticklabel_format(useOffset=False)\n",
    "plt.show()"
   ]
  },
  {
   "cell_type": "markdown",
   "metadata": {},
   "source": [
    "An assumption we're going to have to make is that most of our values approach 1. A reasonable guess for this error could be that numerical values representing irrational numbers (1/3, 1/7, etc.) do not perfectly sum up to 1 on a computer. Still, this error is small and assuming that these values approach 1 is good enough.\n",
    "\n",
    "Next, We're going to have to explore how word stemming influences our data. musiXmatch, one of our resources for our current dataset, specifically uses this to categorize similar words together (e.g. transports, transporting, and transported all stem from transport). This however has its flaws, as certain words may be contained as a compound (e.g. transport is a compound of transportation). Let's load one of the datasets obtained having these stemmed words."
   ]
  },
  {
   "cell_type": "code",
   "execution_count": 5,
   "metadata": {
    "ExecuteTime": {
     "end_time": "2020-01-19T20:00:47.564384Z",
     "start_time": "2020-01-19T20:00:47.526568Z"
    }
   },
   "outputs": [
    {
     "data": {
      "text/html": [
       "<div>\n",
       "<style scoped>\n",
       "    .dataframe tbody tr th:only-of-type {\n",
       "        vertical-align: middle;\n",
       "    }\n",
       "\n",
       "    .dataframe tbody tr th {\n",
       "        vertical-align: top;\n",
       "    }\n",
       "\n",
       "    .dataframe thead th {\n",
       "        text-align: right;\n",
       "    }\n",
       "</style>\n",
       "<table border=\"1\" class=\"dataframe\">\n",
       "  <thead>\n",
       "    <tr style=\"text-align: right;\">\n",
       "      <th></th>\n",
       "      <th>Stem</th>\n",
       "      <th>Word</th>\n",
       "    </tr>\n",
       "  </thead>\n",
       "  <tbody>\n",
       "    <tr>\n",
       "      <th>0</th>\n",
       "      <td>día</td>\n",
       "      <td>día</td>\n",
       "    </tr>\n",
       "    <tr>\n",
       "      <th>1</th>\n",
       "      <td>pido</td>\n",
       "      <td>pido</td>\n",
       "    </tr>\n",
       "    <tr>\n",
       "      <th>2</th>\n",
       "      <td>hatr</td>\n",
       "      <td>hatred</td>\n",
       "    </tr>\n",
       "    <tr>\n",
       "      <th>3</th>\n",
       "      <td>pide</td>\n",
       "      <td>pide</td>\n",
       "    </tr>\n",
       "    <tr>\n",
       "      <th>4</th>\n",
       "      <td>yellow</td>\n",
       "      <td>yellow</td>\n",
       "    </tr>\n",
       "  </tbody>\n",
       "</table>\n",
       "</div>"
      ],
      "text/plain": [
       "     Stem    Word\n",
       "0     día     día\n",
       "1    pido    pido\n",
       "2    hatr  hatred\n",
       "3    pide    pide\n",
       "4  yellow  yellow"
      ]
     },
     "execution_count": 5,
     "metadata": {},
     "output_type": "execute_result"
    }
   ],
   "source": [
    "stemDF = pd.read_csv(\"mxm_reverse_mapping_safe.csv\")\n",
    "stemDF.head()"
   ]
  },
  {
   "cell_type": "markdown",
   "metadata": {},
   "source": [
    "We note that some stems are at times the word itself. Above we see *pide* and *yellow* as both stem and words.\n",
    "\n",
    "Let's extract the stems we need in `lyrics`."
   ]
  },
  {
   "cell_type": "code",
   "execution_count": 6,
   "metadata": {
    "ExecuteTime": {
     "end_time": "2020-01-19T20:00:47.575971Z",
     "start_time": "2020-01-19T20:00:47.567616Z"
    }
   },
   "outputs": [
    {
     "name": "stdout",
     "output_type": "stream",
     "text": [
      "Words in lyrics df: 4817\n",
      "Stems in stemDF: 4976\n"
     ]
    }
   ],
   "source": [
    "print(\"Words in lyrics df:\", len(lyrics.columns[3:]))\n",
    "print(\"Stems in stemDF:\", len(stemDF))"
   ]
  },
  {
   "cell_type": "code",
   "execution_count": 7,
   "metadata": {
    "ExecuteTime": {
     "end_time": "2020-01-19T20:00:47.591015Z",
     "start_time": "2020-01-19T20:00:47.579446Z"
    }
   },
   "outputs": [
    {
     "data": {
      "text/plain": [
       "4817"
      ]
     },
     "execution_count": 7,
     "metadata": {},
     "output_type": "execute_result"
    }
   ],
   "source": [
    "#Gathering list of stems\n",
    "stems = list(set(list(stemDF['Stem'])).intersection(lyrics.columns[3:]))\n",
    "len(stems)"
   ]
  },
  {
   "cell_type": "markdown",
   "metadata": {},
   "source": [
    "`stems` being the same size as lyrics, let's leave values in `stemDF` that are in `stems`."
   ]
  },
  {
   "cell_type": "code",
   "execution_count": 8,
   "metadata": {
    "ExecuteTime": {
     "end_time": "2020-01-19T20:00:47.875658Z",
     "start_time": "2020-01-19T20:00:47.594907Z"
    }
   },
   "outputs": [
    {
     "data": {
      "text/plain": [
       "(4817, 2)"
      ]
     },
     "execution_count": 8,
     "metadata": {},
     "output_type": "execute_result"
    }
   ],
   "source": [
    "#Running more than once will not make changes to stemDF unless original CSV is\n",
    "#loaded again\n",
    "stemDF = stemDF[\n",
    "    [True if stem in stems else False for stem in stemDF['Stem']]\n",
    "]\n",
    "stemDF.shape"
   ]
  },
  {
   "cell_type": "markdown",
   "metadata": {},
   "source": [
    "We now have a dataframe of stems corresponding to a specific word."
   ]
  },
  {
   "cell_type": "markdown",
   "metadata": {},
   "source": [
    "## K-Nearest Neighbors From Scratch"
   ]
  },
  {
   "cell_type": "markdown",
   "metadata": {},
   "source": [
    "I will now be making a KNN model from scratch. First, I will create a list of words and use them as my features. Then, I'll make a classifier model that requires one test datum. After extending it to accept multiple test data, I will create a all in one function to train with training data and accept test data, giving a list of guesses."
   ]
  },
  {
   "cell_type": "code",
   "execution_count": 9,
   "metadata": {
    "ExecuteTime": {
     "end_time": "2020-01-19T20:00:47.884739Z",
     "start_time": "2020-01-19T20:00:47.878902Z"
    }
   },
   "outputs": [],
   "source": [
    "#Setting my_20_features to an array of 20 features (strings that are column labels)\n",
    "my_20_features = np.array(['countri', 'fight', 'sweet', 'nice', 'drink', \n",
    "                           'weak', 'over', 'home', 'friend', 'wanna', 'leav', \n",
    "                           'never', 'back', 'heart', 'around', \n",
    "                           'know','down', 'life', 'ya', 'yo'])"
   ]
  },
  {
   "cell_type": "code",
   "execution_count": 429,
   "metadata": {
    "ExecuteTime": {
     "end_time": "2020-01-20T07:25:01.526601Z",
     "start_time": "2020-01-20T07:25:01.434977Z"
    }
   },
   "outputs": [
    {
     "name": "stdout",
     "output_type": "stream",
     "text": [
      "Train shape: (1291, 4820)\n",
      "Test shape: (430, 4820)\n"
     ]
    }
   ],
   "source": [
    "#Creating sample\n",
    "rand_sam = np.arange(len(lyrics))\n",
    "np.random.shuffle(rand_sam)\n",
    "\n",
    "#Breaking up my data 75-25% split\n",
    "split_pt = int(np.round(len(lyrics) * 0.75))\n",
    "lyrics_train = lyrics.iloc[rand_sam[:split_pt], :]\n",
    "lyrics_test = lyrics.iloc[rand_sam[split_pt:], :]\n",
    "print(\"Train shape:\", lyrics_train.shape)\n",
    "print(\"Test shape:\", lyrics_test.shape)"
   ]
  },
  {
   "cell_type": "code",
   "execution_count": 430,
   "metadata": {
    "ExecuteTime": {
     "end_time": "2020-01-20T07:25:01.669238Z",
     "start_time": "2020-01-20T07:25:01.662185Z"
    }
   },
   "outputs": [],
   "source": [
    "#Gathering 20 features\n",
    "train20 = lyrics_train.loc[:, my_20_features]\n",
    "test20 = lyrics_test.loc[:, my_20_features]"
   ]
  },
  {
   "cell_type": "code",
   "execution_count": 431,
   "metadata": {
    "ExecuteTime": {
     "end_time": "2020-01-20T07:25:01.827319Z",
     "start_time": "2020-01-20T07:25:01.822181Z"
    }
   },
   "outputs": [],
   "source": [
    "#UC Berkeley's Data 8 fast_distance function\n",
    "def fast_distances(test_row, train_rows):\n",
    "    \"\"\"An array of the distances between test_row and each row in train_rows.\n",
    "\n",
    "    Takes 2 arguments:\n",
    "      test_row: A row of a table containing features of one\n",
    "        test song (e.g., test_20.iloc[0, :]).\n",
    "      train_rows: A table of features (for example, the whole\n",
    "        table train_20).\n",
    "        \n",
    "    Returns distance array of valures from test row and all of the train rows\n",
    "    \"\"\"\n",
    "    counts_matrix = np.asmatrix(train_rows)\n",
    "    diff = (\n",
    "        np.tile(np.array(test_row), [counts_matrix.shape[0], 1]) - \n",
    "        counts_matrix\n",
    "    )\n",
    "    distances = np.squeeze(np.asarray(np.sqrt(np.square(diff).sum(1))))\n",
    "    return distances"
   ]
  },
  {
   "cell_type": "code",
   "execution_count": 432,
   "metadata": {
    "ExecuteTime": {
     "end_time": "2020-01-20T07:25:02.002333Z",
     "start_time": "2020-01-20T07:25:01.993076Z"
    },
    "scrolled": true
   },
   "outputs": [],
   "source": [
    "#Creating pandas dataframe to put values in with trained\n",
    "distance = pd.DataFrame({\"label\": lyrics_train.Genre,\n",
    "                         \"distance\":fast_distances(test20.iloc[0, :], train20)\n",
    "})\n",
    "\n",
    "#Sorting\n",
    "distance.sort_values(\"distance\", inplace=True)"
   ]
  },
  {
   "cell_type": "code",
   "execution_count": 433,
   "metadata": {
    "ExecuteTime": {
     "end_time": "2020-01-20T07:25:02.210227Z",
     "start_time": "2020-01-20T07:25:02.204616Z"
    }
   },
   "outputs": [],
   "source": [
    "#Gathering the 5 nearest neighbors \n",
    "def freqValue(df, label = \"label\", num_neighbor = 7):\n",
    "    \"\"\"Returns the most frequent value in a column\n",
    "    \n",
    "    Arguments:\n",
    "        df - DataFrame of values\n",
    "        label (optional) - Name of column to find data\n",
    "        num_neighbors (optional) - Number of k neighbors\n",
    "    \"\"\"\n",
    "    from collections import Counter\n",
    "    \n",
    "    #Dictionary giving labels in label (keys) and their frequency (values)\n",
    "    x = dict(Counter(\n",
    "        df.iloc[:num_neighbor, :].loc[:,label]\n",
    "    ))\n",
    "    return max(x, key=lambda i: x[i])"
   ]
  },
  {
   "cell_type": "code",
   "execution_count": 434,
   "metadata": {
    "ExecuteTime": {
     "end_time": "2020-01-20T07:25:02.380944Z",
     "start_time": "2020-01-20T07:25:02.374477Z"
    }
   },
   "outputs": [
    {
     "data": {
      "text/plain": [
       "'Country'"
      ]
     },
     "execution_count": 434,
     "metadata": {},
     "output_type": "execute_result"
    }
   ],
   "source": [
    "#Predicted value\n",
    "freqValue(distance)"
   ]
  },
  {
   "cell_type": "code",
   "execution_count": 435,
   "metadata": {
    "ExecuteTime": {
     "end_time": "2020-01-20T07:25:02.593077Z",
     "start_time": "2020-01-20T07:25:02.586005Z"
    }
   },
   "outputs": [
    {
     "data": {
      "text/plain": [
       "'Country'"
      ]
     },
     "execution_count": 435,
     "metadata": {},
     "output_type": "execute_result"
    }
   ],
   "source": [
    "#Actual value\n",
    "lyrics_test.iloc[0, 2]"
   ]
  },
  {
   "cell_type": "markdown",
   "metadata": {},
   "source": [
    "Above shows an example of training data and predicting with one example. The predicted value from the algorithm is correct, predicting the actual value.\n",
    "\n",
    "Let's try with more than one example and see how accurate the above code is. Since my piece of code is quite large for a jupyter cell, I've created a .py file containing a modified version of the process above. Please refer to the .py file for more information on how the following code works."
   ]
  },
  {
   "cell_type": "code",
   "execution_count": 436,
   "metadata": {
    "ExecuteTime": {
     "end_time": "2020-01-20T07:25:02.951786Z",
     "start_time": "2020-01-20T07:25:02.947714Z"
    }
   },
   "outputs": [],
   "source": [
    "from kNN_Homemade import knnModel"
   ]
  },
  {
   "cell_type": "code",
   "execution_count": 437,
   "metadata": {
    "ExecuteTime": {
     "end_time": "2020-01-20T07:25:06.390014Z",
     "start_time": "2020-01-20T07:25:03.131691Z"
    }
   },
   "outputs": [
    {
     "data": {
      "text/plain": [
       "259     Hip-hop\n",
       "1180    Country\n",
       "169     Hip-hop\n",
       "1291    Country\n",
       "655     Hip-hop\n",
       "dtype: object"
      ]
     },
     "execution_count": 437,
     "metadata": {},
     "output_type": "execute_result"
    }
   ],
   "source": [
    "#Loading basic model\n",
    "model = knnModel()\n",
    "\n",
    "#Training and testing data\n",
    "train_data, test_data = model.train_test_split(lyrics, 0.75, my_20_features)\n",
    "\n",
    "#Training and predicting data\n",
    "model.train(train_data)\n",
    "predictions_train = model.predict(train_data)\n",
    "predictions_train.head()"
   ]
  },
  {
   "cell_type": "code",
   "execution_count": 438,
   "metadata": {
    "ExecuteTime": {
     "end_time": "2020-01-20T07:25:06.398781Z",
     "start_time": "2020-01-20T07:25:06.393441Z"
    }
   },
   "outputs": [
    {
     "name": "stdout",
     "output_type": "stream",
     "text": [
      "Train accuracy: 0.8350116189000775\n"
     ]
    }
   ],
   "source": [
    "print(\"Train accuracy:\", model.score(\"Genre\"))"
   ]
  },
  {
   "cell_type": "markdown",
   "metadata": {},
   "source": [
    "Not bad, scoring around 80% accuracy. Let's see if we predict using our test data."
   ]
  },
  {
   "cell_type": "code",
   "execution_count": 439,
   "metadata": {
    "ExecuteTime": {
     "end_time": "2020-01-20T07:25:07.490990Z",
     "start_time": "2020-01-20T07:25:06.403288Z"
    }
   },
   "outputs": [
    {
     "name": "stdout",
     "output_type": "stream",
     "text": [
      "Test accuracy: 0.7837209302325582\n"
     ]
    }
   ],
   "source": [
    "#Loading basic model\n",
    "model = knnModel()\n",
    "\n",
    "#Training and testing data\n",
    "train_data, test_data = model.train_test_split(lyrics, 0.75, my_20_features)\n",
    "\n",
    "#Training and predicting data\n",
    "model.train(train_data)\n",
    "model.predict(test_data)\n",
    "print(\"Test accuracy:\", model.score(\"Genre\"))"
   ]
  },
  {
   "cell_type": "markdown",
   "metadata": {},
   "source": [
    "Let's now compare our results to sklearn's version of the algorithm. Since their version of the algorithm is more robust, I'm expecting a higher accuracy."
   ]
  },
  {
   "cell_type": "markdown",
   "metadata": {},
   "source": [
    "## SciKit Learn Implementation and Comparison"
   ]
  },
  {
   "cell_type": "code",
   "execution_count": 440,
   "metadata": {
    "ExecuteTime": {
     "end_time": "2020-01-20T07:25:09.013124Z",
     "start_time": "2020-01-20T07:25:09.009102Z"
    }
   },
   "outputs": [],
   "source": [
    "from sklearn.neighbors import KNeighborsClassifier"
   ]
  },
  {
   "cell_type": "code",
   "execution_count": 441,
   "metadata": {
    "ExecuteTime": {
     "end_time": "2020-01-20T07:25:09.301115Z",
     "start_time": "2020-01-20T07:25:09.252550Z"
    }
   },
   "outputs": [
    {
     "data": {
      "text/plain": [
       "array(['Hip-hop', 'Country', 'Country', 'Country', 'Country'],\n",
       "      dtype=object)"
      ]
     },
     "execution_count": 441,
     "metadata": {},
     "output_type": "execute_result"
    }
   ],
   "source": [
    "#Loading sklearn's kNN classifier and assigning predictions\n",
    "modelSK = KNeighborsClassifier(n_neighbors = 7)\n",
    "modelSK.fit(train20, lyrics_train['Genre'])\n",
    "predictionsSK = modelSK.predict(train20)\n",
    "\n",
    "#Loading first 5 values in predictions\n",
    "predictionsSK[:5]"
   ]
  },
  {
   "cell_type": "code",
   "execution_count": 442,
   "metadata": {
    "ExecuteTime": {
     "end_time": "2020-01-20T07:25:09.982300Z",
     "start_time": "2020-01-20T07:25:09.932674Z"
    }
   },
   "outputs": [
    {
     "name": "stdout",
     "output_type": "stream",
     "text": [
      "Train accuracy: 0.8094500387296669\n"
     ]
    }
   ],
   "source": [
    "#Scoring \n",
    "print(\"Train accuracy:\", modelSK.score(train20, lyrics_train[\"Genre\"]))"
   ]
  },
  {
   "cell_type": "markdown",
   "metadata": {},
   "source": [
    "Now let's see for testing data"
   ]
  },
  {
   "cell_type": "code",
   "execution_count": 443,
   "metadata": {
    "ExecuteTime": {
     "end_time": "2020-01-20T07:25:12.450263Z",
     "start_time": "2020-01-20T07:25:12.408331Z"
    }
   },
   "outputs": [
    {
     "name": "stdout",
     "output_type": "stream",
     "text": [
      "Test accuracy: 0.8209302325581396\n"
     ]
    }
   ],
   "source": [
    "#Assigning test predictions and scoring\n",
    "modelSK = KNeighborsClassifier(n_neighbors = 7)\n",
    "modelSK.fit(train20, lyrics_train['Genre'])\n",
    "predictionsSK = modelSK.predict(test20)\n",
    "print(\"Test accuracy:\", modelSK.score(test20, lyrics_test[\"Genre\"]))"
   ]
  },
  {
   "cell_type": "markdown",
   "metadata": {},
   "source": [
    "## Comparison and Remarks"
   ]
  },
  {
   "cell_type": "markdown",
   "metadata": {},
   "source": [
    "Both models are overfitting, with the homemade model overfitting more. Yet the homemade model is giving a higher accuracy overall, surprisingly. Not to say our model is better than Sklearn's, but it works well on it's own.\n",
    "\n",
    "To find what works best, I've created a group of words that best give high accuracies to both models. Both models score a max ~82%, with an occasional overfitting pattern (max and rarely 10%). Both models tend to perform equally, sometimes iterations will produce low and overfitting results, other times not. Below is the work I used to run everything"
   ]
  },
  {
   "cell_type": "code",
   "execution_count": 447,
   "metadata": {
    "ExecuteTime": {
     "end_time": "2020-01-20T07:31:50.033884Z",
     "start_time": "2020-01-20T07:31:50.028124Z"
    }
   },
   "outputs": [],
   "source": [
    "#Setting my_new_features to an array of new features\n",
    "my_new_features = np.array([\"cri\", \"old\", \"gone\", \"well\",\n",
    "                           'weak', 'over', 'long','heart', 'ya', \n",
    "                           'yo', \"away\", \"en\", \"des\"])"
   ]
  },
  {
   "cell_type": "code",
   "execution_count": 448,
   "metadata": {
    "ExecuteTime": {
     "end_time": "2020-01-20T07:31:50.654994Z",
     "start_time": "2020-01-20T07:31:50.411933Z"
    }
   },
   "outputs": [
    {
     "data": {
      "text/plain": [
       "Genre\n",
       "Country    0.000412\n",
       "Hip-hop    0.001324\n",
       "Name: em, dtype: float64"
      ]
     },
     "execution_count": 448,
     "metadata": {},
     "output_type": "execute_result"
    }
   ],
   "source": [
    "#Function to compare Genre's with their mean values\n",
    "lyrics.groupby([\"Genre\"]).mean()[\"em\"]"
   ]
  },
  {
   "cell_type": "code",
   "execution_count": 449,
   "metadata": {
    "ExecuteTime": {
     "end_time": "2020-01-20T07:32:32.921083Z",
     "start_time": "2020-01-20T07:31:51.464739Z"
    }
   },
   "outputs": [],
   "source": [
    "#Gathering new mean values for each word. Takes a little under a minute to run\n",
    "val_means = lyrics.iloc[:, 3:].mean(axis = 0).sort_values(ascending=False)[:200]\n",
    "val = []\n",
    "for word in val_means.index:\n",
    "    temp = lyrics.groupby([\"Genre\"]).mean()[word]\n",
    "    val.append(np.abs(temp[\"Country\"] - temp[\"Hip-hop\"]) / (temp[\"Country\"] + temp[\"Hip-hop\"]))"
   ]
  },
  {
   "cell_type": "code",
   "execution_count": 450,
   "metadata": {
    "ExecuteTime": {
     "end_time": "2020-01-20T07:32:32.943353Z",
     "start_time": "2020-01-20T07:32:32.929324Z"
    }
   },
   "outputs": [
    {
     "data": {
      "text/html": [
       "<div>\n",
       "<style scoped>\n",
       "    .dataframe tbody tr th:only-of-type {\n",
       "        vertical-align: middle;\n",
       "    }\n",
       "\n",
       "    .dataframe tbody tr th {\n",
       "        vertical-align: top;\n",
       "    }\n",
       "\n",
       "    .dataframe thead th {\n",
       "        text-align: right;\n",
       "    }\n",
       "</style>\n",
       "<table border=\"1\" class=\"dataframe\">\n",
       "  <thead>\n",
       "    <tr style=\"text-align: right;\">\n",
       "      <th></th>\n",
       "      <th>Avg Val</th>\n",
       "    </tr>\n",
       "  </thead>\n",
       "  <tbody>\n",
       "    <tr>\n",
       "      <th>des</th>\n",
       "      <td>1.0</td>\n",
       "    </tr>\n",
       "    <tr>\n",
       "      <th>je</th>\n",
       "      <td>1.0</td>\n",
       "    </tr>\n",
       "    <tr>\n",
       "      <th>ich</th>\n",
       "      <td>1.0</td>\n",
       "    </tr>\n",
       "    <tr>\n",
       "      <th>du</th>\n",
       "      <td>1.0</td>\n",
       "    </tr>\n",
       "    <tr>\n",
       "      <th>et</th>\n",
       "      <td>1.0</td>\n",
       "    </tr>\n",
       "  </tbody>\n",
       "</table>\n",
       "</div>"
      ],
      "text/plain": [
       "     Avg Val\n",
       "des      1.0\n",
       "je       1.0\n",
       "ich      1.0\n",
       "du       1.0\n",
       "et       1.0"
      ]
     },
     "execution_count": 450,
     "metadata": {},
     "output_type": "execute_result"
    }
   ],
   "source": [
    "pd.DataFrame({\"Avg Val\": lst}, index = tester.index).sort_values(by = \"Avg Val\", ascending = False).head()"
   ]
  },
  {
   "cell_type": "markdown",
   "metadata": {},
   "source": [
    "Observing above, words in different languages tend to lean more one genre (from exploring, it looks like Hip-hop)."
   ]
  },
  {
   "cell_type": "code",
   "execution_count": 455,
   "metadata": {
    "ExecuteTime": {
     "end_time": "2020-01-20T07:33:30.063319Z",
     "start_time": "2020-01-20T07:33:30.050356Z"
    }
   },
   "outputs": [
    {
     "data": {
      "text/html": [
       "<div>\n",
       "<style scoped>\n",
       "    .dataframe tbody tr th:only-of-type {\n",
       "        vertical-align: middle;\n",
       "    }\n",
       "\n",
       "    .dataframe tbody tr th {\n",
       "        vertical-align: top;\n",
       "    }\n",
       "\n",
       "    .dataframe thead th {\n",
       "        text-align: right;\n",
       "    }\n",
       "</style>\n",
       "<table border=\"1\" class=\"dataframe\">\n",
       "  <thead>\n",
       "    <tr style=\"text-align: right;\">\n",
       "      <th></th>\n",
       "      <th>Avg Val</th>\n",
       "    </tr>\n",
       "  </thead>\n",
       "  <tbody>\n",
       "    <tr>\n",
       "      <th>home</th>\n",
       "      <td>0.548895</td>\n",
       "    </tr>\n",
       "    <tr>\n",
       "      <th>littl</th>\n",
       "      <td>0.535674</td>\n",
       "    </tr>\n",
       "    <tr>\n",
       "      <th>rain</th>\n",
       "      <td>0.527649</td>\n",
       "    </tr>\n",
       "    <tr>\n",
       "      <th>left</th>\n",
       "      <td>0.527317</td>\n",
       "    </tr>\n",
       "    <tr>\n",
       "      <th>em</th>\n",
       "      <td>0.525333</td>\n",
       "    </tr>\n",
       "  </tbody>\n",
       "</table>\n",
       "</div>"
      ],
      "text/plain": [
       "        Avg Val\n",
       "home   0.548895\n",
       "littl  0.535674\n",
       "rain   0.527649\n",
       "left   0.527317\n",
       "em     0.525333"
      ]
     },
     "execution_count": 455,
     "metadata": {},
     "output_type": "execute_result"
    }
   ],
   "source": [
    "pd.DataFrame({\"Avg Val\": lst}, index = tester.index).sort_values(by = \"Avg Val\", ascending = False)[30:35]"
   ]
  },
  {
   "cell_type": "markdown",
   "metadata": {},
   "source": [
    "These are sample words giving the biggest difference between each other with respect to their size."
   ]
  },
  {
   "cell_type": "markdown",
   "metadata": {},
   "source": [
    "## Conclusion"
   ]
  },
  {
   "cell_type": "markdown",
   "metadata": {},
   "source": [
    "Throughout this notebook I've analyzed and fidged with my dataset, looking for trends and assumptions I may make about my data. I've implemented my very own kNN algorithm and through multiple trial and error comparisons (not shown, see code in Comparison and Remarks), I was able to conclude that my algorithm works similarly to Sklearn's implementation. In the process I was able to make a last minute revelations about the data: most words in a different language belong to a certain genre, that being *Hip-hop*. Had I more time I would have experimented more on this lead to pursue a higher accuracy however with the homemade kNN algorithm built my main objective is complete."
   ]
  }
 ],
 "metadata": {
  "kernelspec": {
   "display_name": "Python 3",
   "language": "python",
   "name": "python3"
  },
  "language_info": {
   "codemirror_mode": {
    "name": "ipython",
    "version": 3
   },
   "file_extension": ".py",
   "mimetype": "text/x-python",
   "name": "python",
   "nbconvert_exporter": "python",
   "pygments_lexer": "ipython3",
   "version": "3.6.8"
  }
 },
 "nbformat": 4,
 "nbformat_minor": 2
}
